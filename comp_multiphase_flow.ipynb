{
  "nbformat": 4,
  "nbformat_minor": 0,
  "metadata": {
    "colab": {
      "name": "comp_multiphase_flow.ipynb",
      "provenance": [],
      "collapsed_sections": [],
      "include_colab_link": true
    },
    "kernelspec": {
      "name": "python3",
      "display_name": "Python 3"
    },
    "language_info": {
      "name": "python"
    }
  },
  "cells": [
    {
      "cell_type": "markdown",
      "metadata": {
        "id": "view-in-github",
        "colab_type": "text"
      },
      "source": [
        "<a href=\"https://colab.research.google.com/github/Toothpastefairy/pokemon-essentials/blob/master/comp_multiphase_flow.ipynb\" target=\"_parent\"><img src=\"https://colab.research.google.com/assets/colab-badge.svg\" alt=\"Open In Colab\"/></a>"
      ]
    },
    {
      "cell_type": "markdown",
      "source": [
        "# Functions"
      ],
      "metadata": {
        "id": "OAYnXVsJvlbT"
      }
    },
    {
      "cell_type": "code",
      "source": [
        "import numpy as np\n",
        "import matplotlib.pyplot as plt\n",
        "import scipy.sparse as sp\n",
        "import scipy.sparse.linalg as la\n",
        "\n",
        "def calc_mu(mu_0,Ny):\n",
        "  #returns array of mu over the whole space\n",
        "  return mu_0 * np.ones(Ny+2)\n",
        "\n",
        "\n",
        "# def calc_vt(velocity, y):\n",
        "#   global Ny, dy\n",
        "#   l = Pr_length(velocity, y)\n",
        "#   vt = np.zeros(Ny+2)\n",
        "#   vt[1:-1] = l**2 * np.abs((velocity[:-2] - velocity[2:]) / dy)\n",
        "#   return vt\n",
        "\n",
        "\n",
        "# def Pr_length(velocity, y):\n",
        "#   prantl_length = np.zeros(len(velocity))\n",
        "#   wall_mask = (y < 0.2 * DELTA) + (y > 0.8 * DELTA)\n",
        "#   center_mask = (wall_mask == 0)\n",
        "#   prantl_length[wall_mask] = k * y[wall_mask] # 0.4\n",
        "#   prantl_length[center_mask] = labda * y[center_mask] #0.1\n",
        "#   return prantl_length[1:-1]\n",
        "\n",
        "\n",
        "def diagonal_A(mu, boundary_Condition,dy,vt):\n",
        "  diag_A = np.ones(len(mu))\n",
        "  diag_A[1:-1] = mu[2:] + 2* mu[1:-1] + mu[:-2] #- (vt[2:] + 2* vt[1:-1] + vt[:-2])\n",
        "  diag_A[0] = boundary_Condition[0] * dy\n",
        "  diag_A[-1] = boundary_Condition[1] * dy\n",
        "  return diag_A\n",
        "\n",
        "\n",
        "def diagonal_B(mu,dy,vt):\n",
        "  diag_B = np.zeros(len(mu)-1)\n",
        "  diag_B = -1*(mu[:-1] + mu[1:] )#- vt[:-1] + vt[1:])\n",
        "  diag_B[-1] = 1*dy\n",
        "  return diag_B\n",
        "\n",
        "\n",
        "def diagonal_C(mu,dy,vt):\n",
        "  diag_C = np.zeros(len(mu)-1)\n",
        "  diag_C = -1*(mu[:-1] + mu[1:] )#- vt[:-1] + vt[1:])\n",
        "  diag_C[0] = 1*dy\n",
        "  return diag_C\n",
        "\n",
        "\n",
        "def TDMAsolver(a, b, c, d):\n",
        "    # copying the arrays so they can be overwritten\n",
        "    ac = np.copy(a)\n",
        "    bc = np.copy(b)\n",
        "    cc = np.copy(c)\n",
        "    dc = np.copy(d)\n",
        "\n",
        "    xc = np.zeros(len(bc))\n",
        "\n",
        "    for i in range(1, len(d)):\n",
        "        mc = ac[i-1]/bc[i-1]\n",
        "        bc[i] = bc[i] - mc*cc[i-1] \n",
        "        dc[i] = dc[i] - mc*dc[i-1]\n",
        "        \t    \n",
        "    xc = bc\n",
        "    xc[-1] = dc[-1]/bc[-1]\n",
        "\n",
        "    for i in range(len(d)-2, -1, -1):\n",
        "        xc[i] = (dc[i]-cc[i]*xc[i+1])/bc[i]\n",
        "    return xc\n",
        "\n",
        "\n",
        "def simulate(boundary_Condition, mu, pressure_dif, press_bound, vt):\n",
        "    global dy\n",
        "    \n",
        "    # Calculating the diago nals\n",
        "    diag_A = diagonal_A(mu, boundary_Condition, dy, vt) / dy\n",
        "    diag_B = diagonal_B(mu,dy, vt) / dy\n",
        "    diag_C = diagonal_C(mu,dy, vt) / dy\n",
        "\n",
        "    # Filling the diagonals into the matrix for comparison\n",
        "    matrix_A = 1/(rho) * sp.diags(diagonals=(diag_A, diag_B, diag_C), offsets=(0,-1,1))\n",
        "    matrix_A = sp.dia_matrix(matrix_A)\n",
        "    A = np.diag(diag_A, k=0) + np.diag(diag_B, k=-1) + np.diag(diag_C,k=1)\n",
        "\n",
        "    # Calculating the pressure difference\n",
        "    pressure_difference = pressure_dif * np.ones((Ny+2))\n",
        "    pressure_difference[0] = 2*press_bound[0]\n",
        "    pressure_difference[-1] = 2*press_bound[1]\n",
        "    \n",
        "    solution = la.spsolve(matrix_A,pressure_difference)\n",
        "    #solution = TDMAsolver(diag_B, diag_A, diag_C, pressure_difference)\n",
        "\n",
        "    return solution"
      ],
      "metadata": {
        "id": "UpBMqNgQydHG"
      },
      "execution_count": null,
      "outputs": []
    },
    {
      "cell_type": "markdown",
      "source": [
        "# Find The Laminar Solution\n"
      ],
      "metadata": {
        "id": "ySp2Qp3bWENU"
      }
    },
    {
      "cell_type": "code",
      "source": [
        "# Define the grid\n",
        "Ny = 1000\n",
        "y_end = 100\n",
        "dy = y_end/(Ny + 2)\n",
        "y = np.arange(-y_end/2,y_end/2,dy)\n",
        "\n",
        "# Define flow parameters\n",
        "rho = 1\n",
        "mu_0 = 1#1.3e-3\n",
        "Pressure_difference = 1\n",
        "press_bound = [4, 4]\n",
        "vt = 0\n",
        "\n",
        "mu = calc_mu(mu_0,Ny)\n",
        "\n",
        "# # velocity gradient is 0 at wall\n",
        "print(\"velocity gradient is 0 at wall 1, velocity set at wall 2\")\n",
        "boundary_Condition = [1,-1]\n",
        "press_bound = [0, 0]\n",
        "solution = simulate(boundary_Condition, mu, Pressure_difference, press_bound, vt)\n",
        "plt.plot(solution[1:-1],y[1:-1])\n",
        "\n",
        "# # velocity is 0 at wall\n",
        "print(\"velocity is 0 at wall\")\n",
        "boundary_Condition = [1, 1]\n",
        "solution = simulate(boundary_Condition, mu, Pressure_difference, press_bound, vt)\n",
        "plt.title(\"Prescribed Pressure Gradient and velocity gradient at wall\")\n",
        "plt.xlabel('Velocity [m/s]')\n",
        "plt.ylabel('Channel height [m]')\n",
        "plt.plot(solution,y, '.')\n",
        "plt.axhline(0, color='grey', linestyle='dashed')\n",
        "plt.show()\n",
        "\n",
        "# prescribed shear stress at wall\n",
        "print(\"prescribed shear stress at wall\")\n",
        "stress = 1\n",
        "boundary_Condition = [-1, 1]\n",
        "press_bound = [-stress*dy/mu[0], 0]\n",
        "solution = simulate(boundary_Condition, mu, Pressure_difference, press_bound, vt)\n",
        "plt.title(\"Prescribed Pressure Gradient and velocity gradient at wall\")\n",
        "plt.xlabel('Velocity [m/s]')\n",
        "plt.ylabel('Channel height [m]')\n",
        "plt.plot(solution,y, '.')\n",
        "plt.show()\n",
        "\n",
        "# Prescribed flow rate\n",
        "\n",
        "# First, solve the laminar solution\n",
        "print(\"velocity is 0 at wall, laminar solution\")\n",
        "boundary_Condition = [1, 1]\n",
        "vt = np.zeros(Ny+2)\n",
        "velocity = simulate(boundary_Condition, mu, Pressure_difference, press_bound, vt)\n",
        "# plt.title(\"Prescribed Pressure Gradient and velocity gradient at wall\")\n",
        "# plt.xlabel('Velocity [m/s]')\n",
        "# plt.ylabel('Channel height [m]')\n",
        "# plt.plot(velocity, y, '.')\n",
        "# plt.axhline(y_end/2, color='grey', linestyle='dashed')\n",
        "# plt.show()\n",
        "\n",
        "error = np.infty\n",
        "errors = np.array([])\n",
        "i=-1\n",
        "while error > 0.01: #or something like that\n",
        "    i+=1\n",
        "    velocity_old = np.copy(velocity)\n",
        "\n",
        "    # recalculate the velocity and error from this\n",
        "    velocity = simulate(boundary_Condition, mu, Pressure_difference, press_bound, vt)\n",
        "    error = np.linalg.norm(velocity_old - velocity) / np.linalg.norm(velocity)\n",
        "    errors = np.append(errors, error)\n",
        "    if i>=500: \n",
        "      print(\"on nyo, it's bwoken\")\n",
        "      break\n",
        "\n",
        "\n",
        "plt.title(\"Prescribed Pressure Gradient and velocity gradient at wall\")\n",
        "plt.xlabel('Velocity [m/s]')\n",
        "plt.ylabel('Channel height [m]')\n",
        "plt.plot(velocity, y, '.')\n",
        "plt.axhline(0, color='grey', linestyle='dashed')\n",
        "plt.show()\n",
        "\n"
      ],
      "metadata": {
        "colab": {
          "base_uri": "https://localhost:8080/",
          "height": 1000
        },
        "id": "HUjQVMpvw2zV",
        "outputId": "fbc0df14-0a99-40dc-f6ce-ceefbb0c6101"
      },
      "execution_count": null,
      "outputs": [
        {
          "output_type": "stream",
          "name": "stdout",
          "text": [
            "velocity gradient is 0 at wall 1, velocity set at wall 2\n",
            "velocity is 0 at wall\n"
          ]
        },
        {
          "output_type": "stream",
          "name": "stderr",
          "text": [
            "/usr/local/lib/python3.7/dist-packages/scipy/sparse/linalg/dsolve/linsolve.py:138: SparseEfficiencyWarning: spsolve requires A be CSC or CSR matrix format\n",
            "  SparseEfficiencyWarning)\n",
            "/usr/local/lib/python3.7/dist-packages/scipy/sparse/linalg/dsolve/linsolve.py:138: SparseEfficiencyWarning: spsolve requires A be CSC or CSR matrix format\n",
            "  SparseEfficiencyWarning)\n"
          ]
        },
        {
          "output_type": "display_data",
          "data": {
            "text/plain": [
              "<Figure size 432x288 with 1 Axes>"
            ],
            "image/png": "[encoded data removed]"
          },
          "metadata": {
            "needs_background": "light"
          }
        },
        {
          "output_type": "stream",
          "name": "stdout",
          "text": [
            "prescribed shear stress at wall\n"
          ]
        },
        {
          "output_type": "stream",
          "name": "stderr",
          "text": [
            "/usr/local/lib/python3.7/dist-packages/scipy/sparse/linalg/dsolve/linsolve.py:138: SparseEfficiencyWarning: spsolve requires A be CSC or CSR matrix format\n",
            "  SparseEfficiencyWarning)\n"
          ]
        },
        {
          "output_type": "display_data",
          "data": {
            "text/plain": [
              "<Figure size 432x288 with 1 Axes>"
            ],
            "image/png": "[encoded data removed]"
          },
          "metadata": {
            "needs_background": "light"
          }
        },
        {
          "output_type": "stream",
          "name": "stdout",
          "text": [
            "velocity is 0 at wall, laminar solution\n"
          ]
        },
        {
          "output_type": "stream",
          "name": "stderr",
          "text": [
            "/usr/local/lib/python3.7/dist-packages/scipy/sparse/linalg/dsolve/linsolve.py:138: SparseEfficiencyWarning: spsolve requires A be CSC or CSR matrix format\n",
            "  SparseEfficiencyWarning)\n"
          ]
        },
        {
          "output_type": "display_data",
          "data": {
            "text/plain": [
              "<Figure size 432x288 with 1 Axes>"
            ],
            "image/png": "[encoded data removed]"
          },
          "metadata": {
            "needs_background": "light"
          }
        }
      ]
    },
    {
      "cell_type": "markdown",
      "source": [
        "# Add Prandtl mixing length"
      ],
      "metadata": {
        "id": "4WCAyZIzWJGE"
      }
    },
    {
      "cell_type": "code",
      "source": [
        "# Adding Prantl Mixing Length\n",
        "\n",
        "def calc_mu_Prandtl(y, velocity, rho, mu_0, Ny, argument_type):\n",
        "  # Returns array of mu over the whole space\n",
        "  mixing_length = mixing_length_func(y, velocity, rho, mu_0, argument_type)\n",
        "  \n",
        "  # Determine the velocity gradient\n",
        "  velocity_diff = (velocity[2:] - velocity[:-2]) / (y[2:] - y[:-2])\n",
        "  velocity_diff = np.append(velocity_diff, velocity_diff[-1])\n",
        "  velocity_diff = np.append(velocity_diff[0], velocity_diff)\n",
        "\n",
        "  # Calculate the effective viscosity\n",
        "  mu_eff = rho * mixing_length**2 * np.abs(velocity_diff)\n",
        "\n",
        "  return mu_0 * np.ones(Ny+2) + mu_eff\n",
        "\n",
        "\n",
        "def mixing_length_func(y, velocity, rho, mu_0, argument_type):\n",
        "  global y_end, dy, Pressure_difference\n",
        "  # Use the practical definition for the boundary layer thickness\n",
        "  y_wall = -np.abs(y)+y_end/2\n",
        "\n",
        "  delta99 = y_wall[np.max(velocity) * 0.99 < velocity]\n",
        "  delta99 = delta99[0]\n",
        "  # delta99 = y_end / 2\n",
        "  \n",
        "  # Known constants\n",
        "  labda = 0.09\n",
        "  kappa = 0.41\n",
        "  A = 26\n",
        "\n",
        "  # Calculate stresses in different ways\n",
        "  tau_s = np.abs((velocity[1] - velocity[0]) / dy)\n",
        "  tau = tau_s + Pressure_difference * y_wall\n",
        "  tau_plus = tau / tau_s\n",
        "  \n",
        "  y_plus = y_wall * np.sqrt(tau_s * rho) / mu_0\n",
        "  \n",
        "  # Away from the boundary\n",
        "  lm = labda * delta99 * np.ones(len(velocity))\n",
        "\n",
        "  # Calculate Von Driest damping types\n",
        "  if argument_type == \"Driest\":\n",
        "    argument = - y_plus / A\n",
        "  elif argument_type == \"Spalding\":\n",
        "    argument = -y_plus * np.sqrt(tau_plus) / A\n",
        "  elif argument_type == \"Jones\":\n",
        "    argument = -y_plus * tau_plus / A\n",
        "\n",
        "  # Apply damping\n",
        "  damping = (1 - np.exp(argument))\n",
        "\n",
        "  # Close to the boundary, add Von Driest damping\n",
        "  mask = y_wall/delta99 < labda/kappa\n",
        "  lm[mask] = kappa * y_wall[mask]\n",
        "  lm*=damping\n",
        "\n",
        "  return lm\n",
        "\n",
        "\n",
        "def solve_turbulent(argument_type):\n",
        "  # First Calcuate the laminar solution\n",
        "  mu = calc_mu(mu_0, Ny)\n",
        "  velocity_laminar = simulate(boundary_Condition, mu, Pressure_difference, press_bound, vt)\n",
        "\n",
        "  velocity_new = velocity_laminar\n",
        "\n",
        "  # Then calculate the solution with Prandtl mixing length\n",
        "  eps = 0.02\n",
        "  error = 1\n",
        "  i = 0\n",
        "\n",
        "  # Looping till solution converges\n",
        "  while error > eps:\n",
        "    velocity = velocity_new\n",
        "\n",
        "    # Calculate new effective viscosity\n",
        "    mu_Prandtl = calc_mu_Prandtl(y, velocity, rho, mu_0, Ny, argument_type)\n",
        "\n",
        "    # Calculate ensuing velocity\n",
        "    velocity_new = simulate(boundary_Condition, mu_Prandtl, Pressure_difference, press_bound, vt)\n",
        "\n",
        "    error = np.sum(np.abs((velocity_new - velocity) / velocity))\n",
        "    if i > 200:\n",
        "      print(\"Oh nyo, it's bwoken\")\n",
        "      return None\n",
        "  \n",
        "  return velocity_new"
      ],
      "metadata": {
        "id": "sz_g-rsCpeJg"
      },
      "execution_count": null,
      "outputs": []
    },
    {
      "cell_type": "code",
      "source": [
        "# Define the grid\n",
        "Ny = 1000\n",
        "y_end = 10\n",
        "dy = y_end/(Ny + 2)\n",
        "y = np.linspace(-(y_end + dy)/2, (y_end + dy)/2, Ny + 2)\n",
        "\n",
        "# Define flow parameters\n",
        "rho = 1\n",
        "mu_0 = 1 \n",
        "Pressure_difference = 1\n",
        "press_bound = [4, 4]\n",
        "boundary_Condition = [1, 1]\n",
        "vt = 0\n",
        "\n",
        "mu = calc_mu(mu_0,Ny)"
      ],
      "metadata": {
        "id": "sFbEVnZSzKhR"
      },
      "execution_count": null,
      "outputs": []
    },
    {
      "cell_type": "code",
      "source": [
        "# First Calcuate the laminar solution\n",
        "velocity = solve_turbulent(\"Spalding\")\n",
        "velocity2 = solve_turbulent(\"Driest\")\n",
        "velocity3 = solve_turbulent(\"Jones\")\n",
        "mu = calc_mu(mu_0, Ny)\n",
        "velocity_laminar = simulate(boundary_Condition, mu, Pressure_difference, press_bound, vt)\n",
        "y+= y_end/2\n",
        "print(i)\n",
        "print(\"With prandtl mixing length solution\")\n",
        "plt.plot(y,velocity)\n",
        "plt.plot(y,velocity_laminar)\n",
        "plt.xscale(\"log\")\n",
        "plt.show()\n",
        "plt.plot(velocity2 - velocity)\n"
      ],
      "metadata": {
        "colab": {
          "base_uri": "https://localhost:8080/",
          "height": 604
        },
        "id": "4Ab1gv-q3_Jf",
        "outputId": "10e6dfb8-d3b9-44eb-c8fb-9d9e98ebffce"
      },
      "execution_count": null,
      "outputs": [
        {
          "output_type": "stream",
          "name": "stderr",
          "text": [
            "/usr/local/lib/python3.7/dist-packages/scipy/sparse/linalg/dsolve/linsolve.py:138: SparseEfficiencyWarning: spsolve requires A be CSC or CSR matrix format\n",
            "  SparseEfficiencyWarning)\n"
          ]
        },
        {
          "output_type": "stream",
          "name": "stdout",
          "text": [
            "0\n",
            "With prandtl mixing length solution\n"
          ]
        },
        {
          "output_type": "display_data",
          "data": {
            "text/plain": [
              "<Figure size 432x288 with 1 Axes>"
            ],
            "image/png": "[encoded data removed]"
          },
          "metadata": {
            "needs_background": "light"
          }
        },
        {
          "output_type": "execute_result",
          "data": {
            "text/plain": [
              "[<matplotlib.lines.Line2D at 0x7f73e5342110>]"
            ]
          },
          "metadata": {},
          "execution_count": 5
        },
        {
          "output_type": "display_data",
          "data": {
            "text/plain": [
              "<Figure size 432x288 with 1 Axes>"
            ],
            "image/png": "[encoded data removed]"
          },
          "metadata": {
            "needs_background": "light"
          }
        }
      ]
    },
    {
      "cell_type": "markdown",
      "source": [
        "# Add Wall Functions"
      ],
      "metadata": {
        "id": "_-_SQ77k_d28"
      }
    },
    {
      "cell_type": "code",
      "source": [
        "# Define the grid\n",
        "Ny = 1000\n",
        "y_end = 100\n",
        "dy = y_end/(Ny + 2)\n",
        "y = np.linspace(-y_end/2,y_end/2,Ny+2)\n",
        "\n",
        "# Define flow parameters\n",
        "rho = 1\n",
        "mu_0 = 1#1.3e-3\n",
        "Pressure_difference = 1\n",
        "press_bound = [4, 4]\n",
        "vt = 0\n",
        "\n",
        "# Define laminar velocity solution\n",
        "mu = calc_mu(mu_0,Ny)\n",
        "velocity_laminar = simulate(boundary_Condition, calc_mu(mu_0,Ny), Pressure_difference, press_bound, vt)\n",
        "\n",
        "# Begin function\n",
        "mu = (calc_mu(mu_0,Ny)) #input\n",
        "u_0 = velocity_laminar #input\n",
        "\n",
        "y_wall = -np.abs(y)+y_end/2\n",
        "\n",
        "# Define known constants\n",
        "beta_star = 0.09\n",
        "E = 9.8\n",
        "kappa = 0.41\n",
        "\n",
        "# Determine kinetic energy\n",
        "kp = velocity_laminar**2/np.sqrt(beta_star)\n",
        "\n",
        "# Define initial guess\n",
        "u_tau_old = (beta_star**(1/4)*np.sqrt(kp))\n",
        "u_tau_new = np.ones(u_tau_old.shape)\n",
        "\n",
        "epsilon = 2e-10\n",
        "error = 10\n",
        "i=0\n",
        "while error > epsilon:\n",
        "  U_p = simulate(boundary_Condition, mu, Pressure_difference, press_bound, vt)\n",
        "  \n",
        "  # Determine new u_tau\n",
        "  yp_plus = y_wall*u_tau_old/mu*rho\n",
        "  u_tau_new[1:-1] = U_p[1:-1]*kappa/np.log(E*yp_plus[1:-1])\n",
        "\n",
        "  # Calculate the error\n",
        "  error = np.sum(np.abs((u_tau_new - u_tau_old) / u_tau_old))\n",
        "\n",
        "  # Update iteration values\n",
        "  u_tau_old = u_tau_new\n",
        "\n",
        "  i+=1\n",
        "\n",
        "mu_effective = rho*u_tau_new*y_wall*kappa/np.log(E*yp_plus)\n",
        "mu_effective[yp_plus<50] = yp_plus[yp_plus<50]\n",
        "print(i)\n"
      ],
      "metadata": {
        "id": "7cODgEzKsUSp",
        "colab": {
          "base_uri": "https://localhost:8080/"
        },
        "outputId": "82d5aeed-59a4-4faa-9a2f-59eed1936064"
      },
      "execution_count": null,
      "outputs": [
        {
          "output_type": "stream",
          "name": "stderr",
          "text": [
            "/usr/local/lib/python3.7/dist-packages/scipy/sparse/linalg/dsolve/linsolve.py:138: SparseEfficiencyWarning: spsolve requires A be CSC or CSR matrix format\n",
            "  SparseEfficiencyWarning)\n"
          ]
        }
      ]
    },
    {
      "cell_type": "code",
      "source": [
        "tau_s = 250\n",
        "E = 9.8\n",
        "kappa = 0.41\n",
        "\n",
        "# Define the grid\n",
        "Ny = 10000\n",
        "y_end = 100\n",
        "dy = y_end/(Ny + 2)\n",
        "y = np.linspace(-y_end/2,y_end/2,Ny+2)\n",
        "\n",
        "y_wall = -np.abs(y)+y_end/2\n",
        "y_plus = y_wall * np.sqrt(tau_s * rho) / mu_0\n",
        "\n",
        "mu = calc_mu(mu_0,Ny)*y_plus/(1/kappa*np.log(E*y_plus))\n",
        "mu[y_plus<11.067] = calc_mu(mu_0,Ny)[y_plus<11.067]\n",
        "\n",
        "plt.plot(y, mu)"
      ],
      "metadata": {
        "colab": {
          "base_uri": "https://localhost:8080/",
          "height": 317
        },
        "id": "qtzyTu_FS2nH",
        "outputId": "275a7ead-70e2-49ab-bbcc-962a7988b2fd"
      },
      "execution_count": null,
      "outputs": [
        {
          "output_type": "stream",
          "name": "stderr",
          "text": [
            "/usr/local/lib/python3.7/dist-packages/ipykernel_launcher.py:14: RuntimeWarning: divide by zero encountered in log\n",
            "  \n"
          ]
        },
        {
          "output_type": "execute_result",
          "data": {
            "text/plain": [
              "[<matplotlib.lines.Line2D at 0x7f73e5309150>]"
            ]
          },
          "metadata": {},
          "execution_count": 7
        },
        {
          "output_type": "display_data",
          "data": {
            "text/plain": [
              "<Figure size 432x288 with 1 Axes>"
            ],
            "image/png": "[encoded data removed]"
          },
          "metadata": {
            "needs_background": "light"
          }
        }
      ]
    },
    {
      "cell_type": "code",
      "source": [
        "tau_s = 250\n",
        "E = 9.8\n",
        "kappa = 0.41\n",
        "\n",
        "# Define the grid\n",
        "Ny = 1000\n",
        "y_end = 100\n",
        "dy = y_end/(Ny + 2)\n",
        "y = np.linspace(-y_end/2,y_end/2,Ny+2)\n",
        "\n",
        "y_wall = -np.abs(y)+y_end/2\n",
        "y_plus = y_wall * np.sqrt(tau_s * rho) / mu_0\n",
        "\n",
        "velocity_old = velocity_laminar\n",
        "\n",
        "error = 10\n",
        "epsilon = 1e-2\n",
        "i=0\n",
        "while error>epsilon:\n",
        "  y_plus = y_wall * np.sqrt(tau_s * rho) / mu_0\n",
        "  mu = calc_mu(mu_0,Ny)*y_plus/(1/kappa*np.log(E*y_plus))\n",
        "  mu[y_plus<25] = calc_mu(mu_0,Ny)[y_plus<25]\n",
        "\n",
        "  velocity_new = simulate(boundary_Condition, mu, Pressure_difference, press_bound, vt)\n",
        "\n",
        "  tau_s = np.abs(velocity_new[1]-velocity_new[0]/dy)\n",
        "\n",
        "  # Calculate the error\n",
        "  error = np.sum(np.abs((velocity_new - velocity_old) / velocity_old))\n",
        "\n",
        "  # Update velocity\n",
        "  velocity_old = velocity_new\n",
        "  i+=1\n",
        "\n",
        "plt.plot(y, velocity_new)\n",
        "print(i)"
      ],
      "metadata": {
        "colab": {
          "base_uri": "https://localhost:8080/",
          "height": 334
        },
        "id": "GrF0tB7DUsrm",
        "outputId": "0f5d18a1-8c7a-41e9-9b1e-4bd415d2af4d"
      },
      "execution_count": null,
      "outputs": [
        {
          "output_type": "stream",
          "name": "stdout",
          "text": [
            "3\n"
          ]
        },
        {
          "output_type": "stream",
          "name": "stderr",
          "text": [
            "/usr/local/lib/python3.7/dist-packages/ipykernel_launcher.py:21: RuntimeWarning: divide by zero encountered in log\n",
            "/usr/local/lib/python3.7/dist-packages/scipy/sparse/linalg/dsolve/linsolve.py:138: SparseEfficiencyWarning: spsolve requires A be CSC or CSR matrix format\n",
            "  SparseEfficiencyWarning)\n"
          ]
        },
        {
          "output_type": "display_data",
          "data": {
            "text/plain": [
              "<Figure size 432x288 with 1 Axes>"
            ],
            "image/png": "[encoded data removed]"
          },
          "metadata": {
            "needs_background": "light"
          }
        }
      ]
    },
    {
      "cell_type": "code",
      "source": [
        "plt.plot(y,mu)\n",
        "plt.xlabel('y')\n",
        "plt.ylabel(r'$\\mu$')\n",
        "#plt.plot(rho*velocity_laminar*y_wall/mu)"
      ],
      "metadata": {
        "colab": {
          "base_uri": "https://localhost:8080/",
          "height": 298
        },
        "id": "BqgcaWvzViD-",
        "outputId": "b9db5b28-a59a-45ab-82bf-9995a11fb31a"
      },
      "execution_count": null,
      "outputs": [
        {
          "output_type": "execute_result",
          "data": {
            "text/plain": [
              "Text(0, 0.5, '$\\\\mu$')"
            ]
          },
          "metadata": {},
          "execution_count": 19
        },
        {
          "output_type": "display_data",
          "data": {
            "text/plain": [
              "<Figure size 432x288 with 1 Axes>"
            ],
            "image/png": "[encoded data removed]"
          },
          "metadata": {
            "needs_background": "light"
          }
        }
      ]
    },
    {
      "cell_type": "code",
      "source": [
        "print(2*tau_s/y_end)"
      ],
      "metadata": {
        "colab": {
          "base_uri": "https://localhost:8080/"
        },
        "id": "60PIPq2NWeT9",
        "outputId": "1bfa055e-448a-4ed6-b378-a4adf551da1a"
      },
      "execution_count": null,
      "outputs": [
        {
          "output_type": "stream",
          "name": "stdout",
          "text": [
            "2.0279009980123703\n"
          ]
        }
      ]
    },
    {
      "cell_type": "code",
      "source": [
        "# Introduce laminar velocity solution\n",
        "velocity_laminar = simulate(boundary_Condition, calc_mu(mu_0,Ny), Pressure_difference, press_bound, vt)\n",
        "nu = mu/rho\n",
        "\n",
        "# Initial guess\n",
        "cn = 1\n",
        "tau_initial = cn*velocity_laminar[1]\n",
        "u_tau_initial = np.sqrt(tau_initial/rho)\n",
        "u_initial = u_tau_initial*(1/kappa*np.log(y_wall*u_tau_initial/nu)+5)\n",
        "print(2*tau_initial/y_end)\n",
        "plt.plot(u_initial)\n",
        "\n",
        "\n",
        "tau_old = cn*velocity_laminar[1]\n",
        "u_tau_old = np.sqrt(tau_initial/rho)\n",
        "u_old = u_tau_initial*(1/kappa*np.log(y_wall*u_tau_initial/nu)+5)\n",
        "\n",
        "##############\n",
        "tau_w = press_bound[0]*y_end/2\n",
        "u_tau = np.sqrt(tau_w/rho)\n",
        "u = u_tau*(1/kappa*np.log(y_wall*u_tau/nu)+5)\n"
      ],
      "metadata": {
        "colab": {
          "base_uri": "https://localhost:8080/",
          "height": 369
        },
        "id": "GqNP0dx3TGPP",
        "outputId": "b9b681f3-e932-4d41-d7a7-441692a6e071"
      },
      "execution_count": null,
      "outputs": [
        {
          "output_type": "stream",
          "name": "stdout",
          "text": [
            "0.3295009980039905\n"
          ]
        },
        {
          "output_type": "stream",
          "name": "stderr",
          "text": [
            "/usr/local/lib/python3.7/dist-packages/scipy/sparse/linalg/dsolve/linsolve.py:138: SparseEfficiencyWarning: spsolve requires A be CSC or CSR matrix format\n",
            "  SparseEfficiencyWarning)\n",
            "/usr/local/lib/python3.7/dist-packages/ipykernel_launcher.py:9: RuntimeWarning: divide by zero encountered in log\n",
            "  if __name__ == '__main__':\n"
          ]
        },
        {
          "output_type": "execute_result",
          "data": {
            "text/plain": [
              "[<matplotlib.lines.Line2D at 0x7f73db68e050>]"
            ]
          },
          "metadata": {},
          "execution_count": 31
        },
        {
          "output_type": "display_data",
          "data": {
            "text/plain": [
              "<Figure size 432x288 with 1 Axes>"
            ],
            "image/png": "[encoded data removed]"
          },
          "metadata": {
            "needs_background": "light"
          }
        }
      ]
    },
    {
      "cell_type": "code",
      "source": [
        "plt.plot(u_initial)"
      ],
      "metadata": {
        "colab": {
          "base_uri": "https://localhost:8080/",
          "height": 282
        },
        "id": "Hg7Uso8iZobK",
        "outputId": "87cbaa58-be7e-460f-8c42-9a354787608f"
      },
      "execution_count": null,
      "outputs": [
        {
          "output_type": "execute_result",
          "data": {
            "text/plain": [
              "[<matplotlib.lines.Line2D at 0x7f73e4919e10>]"
            ]
          },
          "metadata": {},
          "execution_count": 27
        },
        {
          "output_type": "display_data",
          "data": {
            "text/plain": [
              "<Figure size 432x288 with 1 Axes>"
            ],
            "image/png": "[encoded data removed]"
          },
          "metadata": {
            "needs_background": "light"
          }
        }
      ]
    },
    {
      "cell_type": "code",
      "source": [
        ""
      ],
      "metadata": {
        "id": "jWoOqcYWZtDA"
      },
      "execution_count": null,
      "outputs": []
    }
  ]
}